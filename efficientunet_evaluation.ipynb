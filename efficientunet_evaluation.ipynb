{
 "cells": [
  {
   "cell_type": "code",
   "execution_count": 1,
   "metadata": {
    "collapsed": true
   },
   "outputs": [
    {
     "name": "stderr",
     "output_type": "stream",
     "text": [
      "Using TensorFlow backend.\n"
     ]
    },
    {
     "name": "stdout",
     "output_type": "stream",
     "text": [
      "Segmentation Models: using `keras` framework.\n"
     ]
    }
   ],
   "source": [
    "import json\n",
    "import os\n",
    "\n",
    "from skimage.io import imread\n",
    "\n",
    "from keras import backend as K\n",
    "from keras.optimizers import Adam\n",
    "from segmentation_models import losses\n",
    "from keras.models import load_model\n",
    "\n",
    "from efficientnet.keras import EfficientNetB0\n",
    "from efficientnet.keras import preprocess_input\n",
    "\n",
    "from utils import preprocess_data, make_image_generator\n"
   ]
  },
  {
   "cell_type": "code",
   "execution_count": 2,
   "metadata": {},
   "outputs": [],
   "source": [
    "binary_focal_loss = losses.BinaryFocalLoss(alpha=10.0)\n",
    "dice_loss = losses.DiceLoss(smooth=1)\n",
    "\n",
    "\n",
    "def dice_coef(y_true, y_pred):\n",
    "    y_true_f = K.flatten(y_true)\n",
    "    y_pred_f = K.flatten(y_pred)\n",
    "    intersection = K.sum(y_true_f * y_pred_f)\n",
    "    return (2. * intersection + 1.0) / (K.sum(y_true_f) + K.sum(y_pred_f) + 1.0)\n",
    "\n",
    "\n",
    "def binary_focal_dice_loss(y_true, y_pred):\n",
    "    return binary_focal_loss(y_true, y_pred) + dice_loss(y_true, y_pred)\n"
   ]
  },
  {
   "cell_type": "code",
   "execution_count": 5,
   "metadata": {},
   "outputs": [],
   "source": [
    "with open('config.json', 'r') as file:\n",
    "    configs = json.load(file)\n",
    "    \n",
    "model_configs = configs['UNET']\n",
    "\n",
    "batch_size = model_configs['BATCH_SIZE']\n",
    "steps_per_epoch = model_configs['STEPS_PER_EPOCH']\n",
    "img_size = model_configs['IMG_SIZE']\n",
    "learning_rate = model_configs['LEARNING_RATE']\n",
    "path_checkpoint = model_configs['PATH_CHECKPOINT']\n",
    "model_to_load = model_configs['LOAD_MODEL']\n",
    "    \n",
    "data_dir = configs[\"DATA_DIRECTORY\"]\n",
    "train_image_dir = os.path.join(data_dir, 'train_v2')\n",
    "\n",
    "corrupted_images = configs['EXCLUDE_IMAGES']\n",
    "train_df, test_df = preprocess_data(os.path.join(data_dir, 'train_ship_segmentations_v2.csv.zip'), corrupted_images)\n",
    "\n",
    "K.set_image_data_format('channels_last')"
   ]
  },
  {
   "cell_type": "code",
   "execution_count": 6,
   "metadata": {},
   "outputs": [],
   "source": [
    "model = load_model(f'{path_checkpoint}/{model_to_load}.hdf5', compile=False)\n",
    "\n",
    "model.compile(\n",
    "    optimizer=Adam(lr=learning_rate),\n",
    "    loss=binary_focal_dice_loss,\n",
    "    metrics=[dice_coef],\n",
    ")\n"
   ]
  },
  {
   "cell_type": "code",
   "execution_count": 7,
   "metadata": {},
   "outputs": [],
   "source": [
    "train_eval_generator = make_image_generator(\n",
    "    train_df,\n",
    "    batch_size=batch_size,\n",
    "    img_size=img_size,\n",
    "    train_image_dir=train_image_dir,\n",
    "    preprocessing_function=preprocess_input\n",
    ")"
   ]
  },
  {
   "cell_type": "code",
   "execution_count": 8,
   "metadata": {},
   "outputs": [
    {
     "name": "stderr",
     "output_type": "stream",
     "text": [
      "C:\\Python37\\lib\\site-packages\\keras\\utils\\data_utils.py:718: UserWarning: An input could not be retrieved. It could be because a worker has died.We do not have any information on the lost sample.\n  UserWarning)\n"
     ]
    },
    {
     "data": {
      "text/plain": [
       "[0.10607115924358368, 0.7279453873634338]"
      ]
     },
     "execution_count": 8,
     "metadata": {},
     "output_type": "execute_result"
    }
   ],
   "source": [
    "model.evaluate_generator(train_eval_generator, steps=steps_per_epoch)"
   ]
  },
  {
   "cell_type": "code",
   "execution_count": null,
   "metadata": {},
   "outputs": [],
   "source": [
    "test_eval_generator = make_image_generator(\n",
    "    test_df,\n",
    "    batch_size=batch_size,\n",
    "    img_size=img_size,\n",
    "    train_image_dir=train_image_dir,\n",
    "    preprocessing_function=preprocess_input\n",
    ")"
   ]
  },
  {
   "cell_type": "code",
   "execution_count": 10,
   "metadata": {},
   "outputs": [
    {
     "data": {
      "text/plain": [
       "[0.11424889415502548, 0.7290158867835999]"
      ]
     },
     "execution_count": 10,
     "metadata": {},
     "output_type": "execute_result"
    }
   ],
   "source": [
    "model.evaluate_generator(test_eval_generator, steps=steps_per_epoch)"
   ]
  }
 ],
 "metadata": {
  "kernelspec": {
   "display_name": "Python 2",
   "language": "python",
   "name": "python2"
  },
  "language_info": {
   "codemirror_mode": {
    "name": "ipython",
    "version": 2
   },
   "file_extension": ".py",
   "mimetype": "text/x-python",
   "name": "python",
   "nbconvert_exporter": "python",
   "pygments_lexer": "ipython2",
   "version": "2.7.6"
  }
 },
 "nbformat": 4,
 "nbformat_minor": 0
}
