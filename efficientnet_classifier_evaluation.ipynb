{
 "cells": [
  {
   "cell_type": "code",
   "execution_count": 1,
   "metadata": {},
   "outputs": [
    {
     "name": "stderr",
     "output_type": "stream",
     "text": [
      "Using TensorFlow backend.\n"
     ]
    }
   ],
   "source": [
    "import json\n",
    "import matplotlib.pyplot as plt\n",
    "import os\n",
    "\n",
    "from skimage.io import imread\n",
    "\n",
    "from keras import backend as K\n",
    "from keras.preprocessing.image import ImageDataGenerator\n",
    "from keras.models import load_model\n",
    "\n",
    "from efficientnet.keras import EfficientNetB0\n",
    "from efficientnet.keras import preprocess_input\n",
    "\n",
    "from utils import preprocess_data\n",
    "from efficientnet_classifier import make_image_generator, create_aug_generator\n",
    "\n",
    "RANDOM_SEED = 10000\n",
    "MODEL = 'efficientnet_classifier'\n"
   ]
  },
  {
   "cell_type": "code",
   "execution_count": 3,
   "metadata": {},
   "outputs": [],
   "source": [
    "with open('config.json', 'r') as file:\n",
    "    configs = json.load(file)\n",
    "    \n",
    "model_configs = configs['CLASSIFIER']\n",
    "\n",
    "balanced = model_configs['BALANCE_DATA']\n",
    "batch_size = model_configs['BATCH_SIZE']\n",
    "steps_per_epoch = model_configs['STEPS_PER_EPOCH']\n",
    "img_size = model_configs['IMG_SIZE']\n",
    "path_checkpoint = model_configs['PATH_CHECKPOINT']\n",
    "\n",
    "\n",
    "data_dir = configs[\"DATA_DIRECTORY\"]\n",
    "train_image_dir = os.path.join(data_dir, 'train_v2')\n",
    "\n",
    "corrupted_images = configs['EXCLUDE_IMAGES']\n",
    "train_df, test_df = preprocess_data(\n",
    "    os.path.join(data_dir, 'train_ship_segmentations_v2.csv.zip'),\n",
    "    corrupted_images,\n",
    "    n_train=0.85,\n",
    "    balanced=balanced\n",
    ")\n",
    "\n",
    "data_generator = ImageDataGenerator(preprocessing_function=preprocess_input)\n",
    "\n",
    "K.set_image_data_format('channels_last')\n",
    "\n",
    "model = load_model(f'{path_checkpoint}/{MODEL}.hdf5')\n"
   ]
  },
  {
   "cell_type": "code",
   "execution_count": 4,
   "metadata": {},
   "outputs": [],
   "source": [
    "train_eval_generator = create_aug_generator(\n",
    "    make_image_generator(train_df, _batch_size=batch_size, _img_size=img_size, _train_image_dir=train_image_dir), \n",
    "    data_generator\n",
    ")\n"
   ]
  },
  {
   "cell_type": "code",
   "execution_count": 5,
   "metadata": {},
   "outputs": [
    {
     "data": {
      "text/plain": [
       "[0.31314143538475037, 0.9286249876022339]"
      ]
     },
     "execution_count": 5,
     "metadata": {},
     "output_type": "execute_result"
    }
   ],
   "source": [
    "model.evaluate_generator(train_eval_generator, steps=steps_per_epoch)\n"
   ]
  },
  {
   "cell_type": "code",
   "execution_count": 6,
   "metadata": {},
   "outputs": [],
   "source": [
    "test_eval_generator = create_aug_generator(\n",
    "    make_image_generator(test_df, _batch_size=batch_size, _img_size=img_size, _train_image_dir=train_image_dir), \n",
    "    data_generator\n",
    ")\n"
   ]
  },
  {
   "cell_type": "code",
   "execution_count": 7,
   "metadata": {},
   "outputs": [
    {
     "data": {
      "text/plain": [
       "[0.006274908781051636, 0.9441249966621399]"
      ]
     },
     "execution_count": 7,
     "metadata": {},
     "output_type": "execute_result"
    }
   ],
   "source": [
    "model.evaluate_generator(test_eval_generator, steps=steps_per_epoch)\n"
   ]
  },
  {
   "cell_type": "code",
   "execution_count": 8,
   "metadata": {},
   "outputs": [],
   "source": [
    ""
   ]
  }
 ],
 "metadata": {
  "kernelspec": {
   "display_name": "Python 2",
   "language": "python",
   "name": "python2"
  },
  "language_info": {
   "codemirror_mode": {
    "name": "ipython",
    "version": 2
   },
   "file_extension": ".py",
   "mimetype": "text/x-python",
   "name": "python",
   "nbconvert_exporter": "python",
   "pygments_lexer": "ipython2",
   "version": "2.7.6"
  }
 },
 "nbformat": 4,
 "nbformat_minor": 0
}
